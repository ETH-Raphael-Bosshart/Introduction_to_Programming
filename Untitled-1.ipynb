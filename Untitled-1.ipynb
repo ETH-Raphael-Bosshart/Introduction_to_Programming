{
 "cells": [
  {
   "cell_type": "code",
   "execution_count": 7,
   "metadata": {},
   "outputs": [
    {
     "name": "stdout",
     "output_type": "stream",
     "text": [
      "Your input was not an integer. Try again by inserting 3 integers\n",
      "Your input was not an integer. Try again by inserting 3 integers\n",
      "The sum is:  17\n"
     ]
    }
   ],
   "source": [
    "#While the input stays an integer, the code in between try and break is executed\n",
    "while True:\n",
    "    #If no exception occurs, the except clause is skipped and execution of the try statement is finished.\n",
    "    try:\n",
    "        #Reads the three integer inputs\n",
    "        x = input(\"Type a number: \")\n",
    "        y = input(\"Type another number: \")\n",
    "        z = input(\"Type another number: \")\n",
    "        #Builds the sum of the three integer inputs and saves it in the variable sum\n",
    "        sum = int(x) + int(y) + int(z)\n",
    "        #prints the sum of the integers\n",
    "        print(\"The sum is: \", sum)\n",
    "        #finishes the execution\n",
    "        break\n",
    "    #If an exception occurs during execution of the try clause, \n",
    "    #the rest of the clause is skipped. \n",
    "    #Then, if its type matches the exception named after the except keyword, here ValueError,\n",
    "    #the except clause is executed. Then the execution continues after the try/except block.\n",
    "    except ValueError:\n",
    "        #prints the statement in the brackets in the console\n",
    "        print(\"Your input was not an integer. Try again by inserting 3 integers\")"
   ]
  },
  {
   "cell_type": "markdown",
   "metadata": {},
   "source": []
  }
 ],
 "metadata": {
  "kernelspec": {
   "display_name": "Python 3.9.12 ('base')",
   "language": "python",
   "name": "python3"
  },
  "language_info": {
   "codemirror_mode": {
    "name": "ipython",
    "version": 3
   },
   "file_extension": ".py",
   "mimetype": "text/x-python",
   "name": "python",
   "nbconvert_exporter": "python",
   "pygments_lexer": "ipython3",
   "version": "3.9.12"
  },
  "orig_nbformat": 4,
  "vscode": {
   "interpreter": {
    "hash": "d9836242844304f799d3fb812aff59bf0e5d126e3fc04795fd08880f1c256e87"
   }
  }
 },
 "nbformat": 4,
 "nbformat_minor": 2
}
